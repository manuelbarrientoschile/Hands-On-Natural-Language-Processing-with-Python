{
 "cells": [
  {
   "cell_type": "markdown",
   "metadata": {},
   "source": [
    "<h1> Movie review classification with NLTK </h1>"
   ]
  },
  {
   "cell_type": "code",
   "execution_count": 16,
   "metadata": {
    "collapsed": true
   },
   "outputs": [],
   "source": [
    "#modificado en vs sutidio\n",
    "#aca hay otro cambio\n",
    "import random\n",
    "import nltk\n",
    "from nltk import NaiveBayesClassifier\n",
    "from nltk.corpus import movie_reviews\n",
    "from sklearn.feature_extraction import DictVectorizer\n",
    "from sklearn.ensemble import RandomForestClassifier\n",
    "from sklearn.metrics import accuracy_score\n",
    "from sklearn.metrics import confusion_matrix"
   ]
  },
  {
   "cell_type": "code",
   "execution_count": 2,
   "metadata": {
    "collapsed": true
   },
   "outputs": [],
   "source": [
    "cats = movie_reviews.categories()\n",
    "reviews = []\n",
    "for cat in cats:\n",
    "    for fid in movie_reviews.fileids(cat):\n",
    "        review = (list(movie_reviews.words(fid)),cat)\n",
    "        reviews.append(review)\n",
    "random.shuffle(reviews)"
   ]
  },
  {
   "cell_type": "code",
   "execution_count": 3,
   "metadata": {},
   "outputs": [],
   "source": [
    "all_wd_in_reviews = nltk.FreqDist(wd.lower() for wd in movie_reviews.words())\n",
    "top_wd_in_reviews = [list(wds) for wds in zip(*all_wd_in_reviews.most_common(2000))][0]"
   ]
  },
  {
   "cell_type": "code",
   "execution_count": 4,
   "metadata": {
    "collapsed": true
   },
   "outputs": [],
   "source": [
    "def ext_ft(review,top_words):\n",
    "    review_wds = set(review)\n",
    "    ft = {}\n",
    "    for wd in top_words:\n",
    "        ft['word_present({})'.format(wd)] = (wd in review_wds)\n",
    "    return ft"
   ]
  },
  {
   "cell_type": "code",
   "execution_count": 5,
   "metadata": {},
   "outputs": [],
   "source": [
    "featuresets = [(ext_ft(d,top_wd_in_reviews), c) for (d,c) in reviews]\n",
    "train_set, test_set = featuresets[200:], featuresets[:200]"
   ]
  },
  {
   "cell_type": "code",
   "execution_count": 6,
   "metadata": {},
   "outputs": [
    {
     "name": "stdout",
     "output_type": "stream",
     "text": [
      "0.86\n"
     ]
    }
   ],
   "source": [
    "classifier = nltk.NaiveBayesClassifier.train(train_set)\n",
    "print(nltk.classify.accuracy(classifier, test_set))"
   ]
  },
  {
   "cell_type": "code",
   "execution_count": 7,
   "metadata": {},
   "outputs": [
    {
     "name": "stdout",
     "output_type": "stream",
     "text": [
      "Most Informative Features\n",
      "word_present(outstanding) = True              pos : neg    =     12.3 : 1.0\n",
      "     word_present(mulan) = True              pos : neg    =      8.8 : 1.0\n",
      "    word_present(seagal) = True              neg : pos    =      8.0 : 1.0\n",
      "word_present(wonderfully) = True              pos : neg    =      6.5 : 1.0\n",
      "     word_present(damon) = True              pos : neg    =      5.8 : 1.0\n",
      "      word_present(lame) = True              neg : pos    =      5.4 : 1.0\n",
      "     word_present(waste) = True              neg : pos    =      5.4 : 1.0\n",
      "       word_present(era) = True              pos : neg    =      5.3 : 1.0\n",
      "    word_present(wasted) = True              neg : pos    =      5.1 : 1.0\n",
      "     word_present(awful) = True              neg : pos    =      5.1 : 1.0\n",
      "    word_present(poorly) = True              neg : pos    =      4.9 : 1.0\n",
      "word_present(ridiculous) = True              neg : pos    =      4.8 : 1.0\n",
      " word_present(laughable) = True              neg : pos    =      4.4 : 1.0\n",
      "     word_present(bland) = True              neg : pos    =      4.4 : 1.0\n",
      " word_present(pointless) = True              neg : pos    =      4.3 : 1.0\n",
      "    word_present(allows) = True              pos : neg    =      4.3 : 1.0\n",
      "      word_present(mess) = True              neg : pos    =      4.1 : 1.0\n",
      "   word_present(unfunny) = True              neg : pos    =      4.1 : 1.0\n",
      "     word_present(worst) = True              neg : pos    =      4.1 : 1.0\n",
      " word_present(portrayal) = True              pos : neg    =      4.0 : 1.0\n"
     ]
    }
   ],
   "source": [
    "classifier.show_most_informative_features(20)"
   ]
  },
  {
   "cell_type": "code",
   "execution_count": 8,
   "metadata": {
    "collapsed": true
   },
   "outputs": [],
   "source": [
    "dict_vectorizer=None\n",
    "def get_train_test(train_set,test_set):\n",
    "    global dict_vectorizer\n",
    "    dict_vectorizer = DictVectorizer(sparse=False)\n",
    "    X_train, y_train = zip(*train_set)\n",
    "    X_train = dict_vectorizer.fit_transform(X_train)\n",
    "    X_test,y_test = zip(*test_set)\n",
    "    X_test = dict_vectorizer.transform(X_test)\n",
    "    return X_train,X_test,y_train,y_test"
   ]
  },
  {
   "cell_type": "code",
   "execution_count": 9,
   "metadata": {},
   "outputs": [
    {
     "data": {
      "text/plain": [
       "RandomForestClassifier(n_jobs=4, random_state=10)"
      ]
     },
     "execution_count": 9,
     "metadata": {},
     "output_type": "execute_result"
    }
   ],
   "source": [
    "X_train,X_test,y_train,y_test = get_train_test(train_set,test_set)\n",
    "rf = RandomForestClassifier(n_estimators=100,n_jobs=4,random_state=10)\n",
    "rf.fit(X_train,y_train)"
   ]
  },
  {
   "cell_type": "code",
   "execution_count": 10,
   "metadata": {},
   "outputs": [
    {
     "name": "stdout",
     "output_type": "stream",
     "text": [
      "0.82\n"
     ]
    }
   ],
   "source": [
    "preds = rf.predict(X_test)\n",
    "print(accuracy_score(y_test,preds))"
   ]
  },
  {
   "cell_type": "code",
   "execution_count": 11,
   "metadata": {
    "collapsed": true
   },
   "outputs": [],
   "source": [
    "from nltk.corpus import stopwords\n",
    "stopwords_list = stopwords.words('english')\n",
    "all_words_in_reviews = nltk.FreqDist(word.lower() for word in movie_reviews.words() if word not in stopwords_list)\n",
    "top_words_in_reviews = [list(words) for words in zip(*all_words_in_reviews.most_common(2000))][0]"
   ]
  },
  {
   "cell_type": "code",
   "execution_count": 12,
   "metadata": {
    "collapsed": true
   },
   "outputs": [],
   "source": [
    "featuresets = [(ext_ft(d,top_words_in_reviews), c) for (d,c) in reviews]\n",
    "train_set, test_set = featuresets[200:], featuresets[:200]\n",
    "X_train,X_test,y_train,y_test = get_train_test(train_set,test_set)"
   ]
  },
  {
   "cell_type": "code",
   "execution_count": 13,
   "metadata": {},
   "outputs": [
    {
     "data": {
      "text/plain": [
       "RandomForestClassifier(n_jobs=4, random_state=10)"
      ]
     },
     "execution_count": 13,
     "metadata": {},
     "output_type": "execute_result"
    }
   ],
   "source": [
    "rf = RandomForestClassifier(n_estimators=100,n_jobs=4,random_state=10)\n",
    "rf.fit(X_train,y_train)"
   ]
  },
  {
   "cell_type": "code",
   "execution_count": 14,
   "metadata": {},
   "outputs": [
    {
     "name": "stdout",
     "output_type": "stream",
     "text": [
      "0.845\n"
     ]
    }
   ],
   "source": [
    "preds = rf.predict(X_test)\n",
    "print(accuracy_score(y_test,preds))"
   ]
  },
  {
   "cell_type": "code",
   "execution_count": 15,
   "metadata": {},
   "outputs": [
    {
     "name": "stdout",
     "output_type": "stream",
     "text": [
      "[('word_present(bad)', 0.015278811116485404), ('word_present(mess)', 0.005997853409149859), ('word_present(waste)', 0.005950727735707335), ('word_present(stupid)', 0.005908389966152629), ('word_present(boring)', 0.005483829177678856), ('word_present(worst)', 0.0053223703467062625), ('word_present(awful)', 0.004867456205234977), ('word_present(memorable)', 0.004462035825874473), ('word_present(supposed)', 0.004210139751775817), ('word_present(ridiculous)', 0.0041114459548825776), ('word_present(plot)', 0.0041025138398298674), ('word_present(outstanding)', 0.0038684196503591946), ('word_present(least)', 0.00372593495612393), ('word_present(great)', 0.0036659288901981554), ('word_present(lame)', 0.003517451172509382), ('word_present(others)', 0.0034569298134889746), ('word_present(dull)', 0.0034495907825416177), ('word_present(wasted)', 0.003385974716146842), ('word_present(effective)', 0.003143340754626261), ('word_present(unfortunately)', 0.0031249848267250924)]\n"
     ]
    },
    {
     "name": "stderr",
     "output_type": "stream",
     "text": [
      "C:\\Users\\manue\\AppData\\Local\\Programs\\Python\\Python39\\lib\\site-packages\\sklearn\\utils\\deprecation.py:87: FutureWarning: Function get_feature_names is deprecated; get_feature_names is deprecated in 1.0 and will be removed in 1.2. Please use get_feature_names_out instead.\n",
      "  warnings.warn(msg, category=FutureWarning)\n"
     ]
    }
   ],
   "source": [
    "features_list = zip(dict_vectorizer.get_feature_names(),rf.feature_importances_)\n",
    "features_list = sorted(features_list, key=lambda x: x[1], reverse=True)\n",
    "print(features_list[0:20])    "
   ]
  },
  {
   "cell_type": "code",
   "execution_count": null,
   "metadata": {
    "collapsed": true
   },
   "outputs": [],
   "source": []
  }
 ],
 "metadata": {
  "kernelspec": {
   "display_name": "Python 3",
   "language": "python",
   "name": "python3"
  },
  "language_info": {
   "codemirror_mode": {
    "name": "ipython",
    "version": 3
   },
   "file_extension": ".py",
   "mimetype": "text/x-python",
   "name": "python",
   "nbconvert_exporter": "python",
   "pygments_lexer": "ipython3",
   "version": "3.9.5"
  }
 },
 "nbformat": 4,
 "nbformat_minor": 2
}
